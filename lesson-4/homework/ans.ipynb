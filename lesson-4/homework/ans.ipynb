{
 "cells": [
  {
   "cell_type": "markdown",
   "id": "bc7cf0bd",
   "metadata": {},
   "source": [
    "# Answers"
   ]
  },
  {
   "cell_type": "markdown",
   "id": "3d0ccf9e",
   "metadata": {},
   "source": [
    "2. Break: exits the loop and the next steps in the loop are executed\n",
    "Continue: the remaining steps in the current iteration are not executed and the loop continues to the next iteration, without exiting the loop"
   ]
  },
  {
   "cell_type": "markdown",
   "id": "42683ebb",
   "metadata": {},
   "source": [
    "3. The for loop is mainly used when the number of iterations is known, while the while loop is used when the number of iterations is not known beforehand and stops when a certain condition is met."
   ]
  },
  {
   "cell_type": "markdown",
   "id": "49a3b266",
   "metadata": {},
   "source": [
    "4. A nested loop is a loop inside another loop. Mainly used for 2D or 3D arrays. For example: we have a 2D list and we wanna print all the data in that list. For this condition we can use a nested loop."
   ]
  }
 ],
 "metadata": {
  "language_info": {
   "name": "python"
  }
 },
 "nbformat": 4,
 "nbformat_minor": 5
}
